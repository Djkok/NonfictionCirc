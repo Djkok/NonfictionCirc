{
 "cells": [
  {
   "cell_type": "code",
   "execution_count": 2,
   "metadata": {},
   "outputs": [],
   "source": [
    "import pandas as pd"
   ]
  },
  {
   "cell_type": "code",
   "execution_count": 7,
   "metadata": {},
   "outputs": [
    {
     "name": "stdout",
     "output_type": "stream",
     "text": [
      "<class 'pandas.core.frame.DataFrame'>\n",
      "RangeIndex: 1974 entries, 0 to 1973\n",
      "Data columns (total 8 columns):\n",
      " #   Column                      Non-Null Count  Dtype  \n",
      "---  ------                      --------------  -----  \n",
      " 0   BrowseAuthor                1798 non-null   object \n",
      " 1   BrowseTitle                 1974 non-null   object \n",
      " 2   PublicationYear             1972 non-null   float64\n",
      " 3   CallNumber                  1974 non-null   object \n",
      " 4   TotalItemLifetimeCircCount  1974 non-null   int64  \n",
      " 5   TotalItemYTDCircCount       1974 non-null   int64  \n",
      " 6   Unnamed: 6                  0 non-null      float64\n",
      " 7   Call No. Color Code         11 non-null     object \n",
      "dtypes: float64(2), int64(2), object(4)\n",
      "memory usage: 123.5+ KB\n",
      "None\n"
     ]
    }
   ],
   "source": [
    "df = pd.read_csv('NonfictionCirc.csv')\n",
    "print(df.info())"
   ]
  },
  {
   "cell_type": "code",
   "execution_count": null,
   "metadata": {},
   "outputs": [],
   "source": []
  }
 ],
 "metadata": {
  "kernelspec": {
   "display_name": "base",
   "language": "python",
   "name": "python3"
  },
  "language_info": {
   "codemirror_mode": {
    "name": "ipython",
    "version": 3
   },
   "file_extension": ".py",
   "mimetype": "text/x-python",
   "name": "python",
   "nbconvert_exporter": "python",
   "pygments_lexer": "ipython3",
   "version": "3.11.4"
  },
  "orig_nbformat": 4
 },
 "nbformat": 4,
 "nbformat_minor": 2
}
